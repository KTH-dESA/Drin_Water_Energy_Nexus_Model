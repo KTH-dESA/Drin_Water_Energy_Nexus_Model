{
 "cells": [
  {
   "cell_type": "markdown",
   "metadata": {},
   "source": [
    "# DRIN Preprocessing Script 2 - Solar and wind Capacity Factor Calculations\n",
    "\n",
    "This notebook is intended to calculate the solar and wind capacity factor based on 'Renewable.Ninja' data. \n",
    "\n"
   ]
  },
  {
   "cell_type": "markdown",
   "metadata": {},
   "source": [
    "### 1. Import packages and dependencies. "
   ]
  },
  {
   "cell_type": "code",
   "execution_count": 42,
   "metadata": {},
   "outputs": [],
   "source": [
    "%load_ext autoreload\n",
    "import sys\n",
    "sys.path.append(\"..\") #this is to add the above folder to the package directory\n",
    "import os\n",
    "#import matplotlib.pyplot as plt\n",
    "import pandas as pd\n",
    "import numpy as np\n",
    "# from pandas.plotting import register_matplotlib_converters\n",
    "import plotly.express as px\n",
    "import matplotlib.pyplot as plt\n",
    "%matplotlib inline "
   ]
  },
  {
   "cell_type": "markdown",
   "metadata": {},
   "source": [
    "### 2. Read the input file and setup the dataframe "
   ]
  },
  {
   "cell_type": "code",
   "execution_count": 4,
   "metadata": {},
   "outputs": [],
   "source": [
    "#reading all the sheets in the file:\n",
    "\n",
    "folder_path = os.path.join('..','data')\n",
    "\n",
    "raw_CFdata = os.path.join(folder_path, 'CapacityFactor for Wind and Solar - All countries RN 2.xlsx')\n",
    "\n",
    "sheetnames = ['AL Solar IN', 'AL Solar OUT', 'AL WPP IN', 'AL WPP OUT',\n",
    "              'MK Solar IN', 'MK Solar OUT', 'MK WPP IN', 'MK WPP OUT',\n",
    "              'ME Solar IN', 'ME Solar OUT', 'ME WPP IN', 'ME WPP OUT',\n",
    "              'XS Solar IN', 'XS Solar OUT', 'XS WPP IN', 'XS WPP OUT']\n",
    "\n",
    "list_of_dfs = [pd.read_excel(raw_CFdata, sheet_name=sheet, skiprows=3) for sheet in sheetnames]\n",
    "\n",
    "#Combining the files into different sheets:\n",
    "filenames = sheetnames\n",
    "for dataframe, filename in zip(list_of_dfs, filenames):\n",
    "    dataframe['filename'] = filename\n",
    "    \n",
    "combined_df = pd.concat(list_of_dfs, ignore_index=True)\n",
    "\n",
    "df = combined_df[['filename','local_time','electricity']].copy()\n"
   ]
  },
  {
   "cell_type": "markdown",
   "metadata": {},
   "source": [
    "### 3 Calcualte the capacity factors "
   ]
  },
  {
   "cell_type": "code",
   "execution_count": 10,
   "metadata": {},
   "outputs": [
    {
     "name": "stderr",
     "output_type": "stream",
     "text": [
      "<ipython-input-10-c3766ebd9ffc>:3: FutureWarning: Series.dt.weekofyear and Series.dt.week have been deprecated.  Please use Series.dt.isocalendar().week instead.\n",
      "  df['week'] = df['local_time'].dt.week\n"
     ]
    }
   ],
   "source": [
    "df['year'] = df['local_time'].dt.year \n",
    "df['month'] = df['local_time'].dt.month\n",
    "df['week'] = df['local_time'].dt.week\n",
    "df['day'] = df['local_time'].dt.day \n",
    "df['hour'] = df['local_time'].dt.hour\n",
    "\n",
    "avg = pd.pivot_table(df, values='electricity', index='week', columns=['filename'], aggfunc=np.mean, fill_value=0)\n",
    "\n",
    "all_cf = (avg/1000).round(3)  #since the installed capacity is 1000 KW\n",
    "all_cf.reset_index(inplace=True)\n",
    "all_cf.rename(columns={'week':'TS'}, inplace=True)\n",
    "all_cf.drop([52], axis=0, inplace=True)"
   ]
  },
  {
   "cell_type": "markdown",
   "metadata": {},
   "source": [
    "### 4 Saving the CF tables for each technology and country"
   ]
  },
  {
   "cell_type": "code",
   "execution_count": 17,
   "metadata": {},
   "outputs": [],
   "source": [
    "#The excel files will be saved in the same directory where this notebook exists\n",
    "\n",
    "output_folder = os.path.join('processed_data', 're_capacity_factors')\n",
    "os.makedirs(output_folder, exist_ok = True)\n",
    "\n",
    "names = all_cf.drop(['TS'], axis=1).columns\n",
    "\n",
    "file_path=os.path.join(output_folder, 'Solar_and_Wind_CFs_20201029.xlsx')\n",
    "writer = pd.ExcelWriter(file_path, engine='xlsxwriter')\n",
    "\n",
    "for name in names:\n",
    "    dfname = all_cf[['TS',name]].copy()\n",
    "    for i in range(20,56):\n",
    "        dfname['20{}'.format(i)]=all_cf[name]\n",
    "        dfname.rename({'2055':'2055:=','TS':' '},axis=1, inplace=True)\n",
    "        ##dfname.drop([name], axis=1).to_excel('{}.xlsx'.format(name))\n",
    "        #dfname.drop([name], axis=1).to_excel(writer, sheet_name='{}'.format(name), index=False)\n",
    "\n",
    "writer.save()"
   ]
  },
  {
   "cell_type": "markdown",
   "metadata": {},
   "source": [
    "# End"
   ]
  },
  {
   "cell_type": "code",
   "execution_count": null,
   "metadata": {},
   "outputs": [],
   "source": []
  }
 ],
 "metadata": {
  "kernelspec": {
   "display_name": "Python 3",
   "language": "python",
   "name": "python3"
  },
  "language_info": {
   "codemirror_mode": {
    "name": "ipython",
    "version": 3
   },
   "file_extension": ".py",
   "mimetype": "text/x-python",
   "name": "python",
   "nbconvert_exporter": "python",
   "pygments_lexer": "ipython3",
   "version": "3.8.3"
  }
 },
 "nbformat": 4,
 "nbformat_minor": 2
}
