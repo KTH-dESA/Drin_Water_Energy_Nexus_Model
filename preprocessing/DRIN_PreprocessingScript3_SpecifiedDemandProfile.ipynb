{
 "cells": [
  {
   "cell_type": "markdown",
   "metadata": {},
   "source": [
    "# DRIN Preprocessing Script 3 - Year Split and Specified Annual demand profile calculations\n",
    "\n",
    "This notebook is intended to calculate the Year Split and Specified Annual demand profile based on the load curve data for Albania. \n",
    "\n",
    "Note: \n",
    "\n",
    "* Year Split = (total number of hours in each time slice)/ total number of hours in a year\n",
    "\n",
    "* Specified demand profile = (sum.hours in each time slice * sum.of demanded energy in each time slice)/Total annual energy\n"
   ]
  },
  {
   "cell_type": "markdown",
   "metadata": {},
   "source": [
    "### 1. Import packages and dependencies. \n"
   ]
  },
  {
   "cell_type": "code",
   "execution_count": null,
   "metadata": {},
   "outputs": [],
   "source": [
    "%load_ext autoreload\n",
    "import sys\n",
    "sys.path.append(\"..\") #this is to add the above folder to the package directory\n",
    "import os\n",
    "#import matplotlib.pyplot as plt\n",
    "import pandas as pd\n",
    "import numpy as np\n",
    "# from pandas.plotting import register_matplotlib_converters\n",
    "import plotly.express as px\n",
    "import matplotlib.pyplot as plt\n",
    "%matplotlib inline "
   ]
  },
  {
   "cell_type": "markdown",
   "metadata": {},
   "source": [
    "### 2. Read the input file and setup the dataframe "
   ]
  },
  {
   "cell_type": "code",
   "execution_count": 19,
   "metadata": {},
   "outputs": [],
   "source": [
    "folder_path = os.path.join('..','data')\n",
    "\n",
    "load_curve = os.path.join(folder_path, 'Albania_load_curve.xlsx')\n",
    "\n",
    "load = pd.read_excel(load_curve) #Note that the unit of load in the data file is MW."
   ]
  },
  {
   "cell_type": "code",
   "execution_count": 40,
   "metadata": {},
   "outputs": [
    {
     "name": "stderr",
     "output_type": "stream",
     "text": [
      "<ipython-input-40-7a439694c7db>:3: FutureWarning: Series.dt.weekofyear and Series.dt.week have been deprecated.  Please use Series.dt.isocalendar().week instead.\n",
      "  load['week'] = load['Date'].dt.week\n"
     ]
    }
   ],
   "source": [
    "load['year'] = load['Date'].dt.year \n",
    "load['month'] = load['Date'].dt.month\n",
    "load['week'] = load['Date'].dt.week\n",
    "load['day'] = load['Date'].dt.day \n",
    "load['hours'] = (1+load['Date'].dt.hour)/(1+load['Date'].dt.hour) \n",
    "load.rename(columns={'Load':'Power(MW)'}, inplace=True)\n"
   ]
  },
  {
   "cell_type": "markdown",
   "metadata": {},
   "source": [
    "### 3. Calculating the demand profile and yearsplit: "
   ]
  },
  {
   "cell_type": "code",
   "execution_count": 41,
   "metadata": {},
   "outputs": [
    {
     "name": "stderr",
     "output_type": "stream",
     "text": [
      "<ipython-input-41-3eb8ce314e8b>:6: FutureWarning: Indexing with multiple keys (implicitly converted to a tuple of keys) will be deprecated, use a list instead.\n",
      "  demand_profile2 = load.groupby('week')['Power(MW)','hours'].sum()\n"
     ]
    }
   ],
   "source": [
    "# Demand profile:\n",
    "demand_profile = pd.pivot_table(load, values=['Power(MW)','hours'], index='week', aggfunc=np.sum, fill_value=0)\n",
    "demand_profile.head()\n",
    "\n",
    "# Calculating the year split and specified demand profile:\n",
    "demand_profile2 = load.groupby('week')['Power(MW)','hours'].sum()\n",
    "demand_profile2['year'] = load.groupby('week')['year'].mean()\n",
    "demand_profile2['yearsplit'] = (8760/52)/8760\n",
    "demand_profile2['TSdemand'] = (demand_profile2['Power(MW)']*demand_profile2['hours'])\n",
    "demand_profile2['specifieddemandprofile'] = demand_profile2['TSdemand']/(demand_profile2['TSdemand'].sum())\n",
    "demand_profile2.reset_index(inplace=True)\n",
    "\n",
    "\n",
    "# Creating a dataframe for each parameter\n",
    "df_sdp = demand_profile2[['week','specifieddemandprofile']].copy()\n",
    "df_ys = demand_profile2[['week','yearsplit']].copy()\n",
    "\n"
   ]
  },
  {
   "cell_type": "markdown",
   "metadata": {},
   "source": [
    "### 4 Saving the CF tables for each technology and country"
   ]
  },
  {
   "cell_type": "code",
   "execution_count": 39,
   "metadata": {},
   "outputs": [],
   "source": [
    "output_folder = os.path.join('processed_data', 'demand_profile')\n",
    "os.makedirs(output_folder, exist_ok = True)\n",
    "\n",
    "file1_path=os.path.join(output_folder, 'Specified_demand_profile.xlsx')\n",
    "file2_path=os.path.join(output_folder, 'year_split.xlsx')\n",
    "\n",
    "\n",
    "for i in range(20,56):\n",
    "    df_sdp['20{}'.format(i)]=df_sdp['specifieddemandprofile'].round(3)\n",
    "    #df_sdp.drop('specifieddemandprofile',axis=1, inplace=True)\n",
    "    df_sdp.rename({'2055':'2055:=','week':' '},axis=1, inplace=True)\n",
    "    \n",
    "    df_ys['20{}'.format(i)]=df_ys['yearsplit'].round(3)\n",
    "    #df_ys.drop('yearsplit',axis=1, inplace=True)\n",
    "    df_ys.rename({'2055':'2055:=','week':' '},axis=1, inplace=True)\n",
    "    \n",
    "\n",
    "df_sdp.drop('specifieddemandprofile',axis=1, inplace=True)\n",
    "df_ys.drop('yearsplit',axis=1, inplace=True)\n",
    "writer1 = pd.ExcelWriter(file1_path, engine='xlsxwriter')\n",
    "writer2 = pd.ExcelWriter(file2_path, engine='xlsxwriter')\n",
    "df_sdp.to_excel(writer1, index=False)\n",
    "df_ys.to_excel(writer2, index=False)\n",
    "\n",
    "writer1.save()\n",
    "writer2.save()"
   ]
  },
  {
   "cell_type": "markdown",
   "metadata": {},
   "source": [
    "# End"
   ]
  },
  {
   "cell_type": "code",
   "execution_count": null,
   "metadata": {},
   "outputs": [],
   "source": []
  }
 ],
 "metadata": {
  "kernelspec": {
   "display_name": "Python 3",
   "language": "python",
   "name": "python3"
  },
  "language_info": {
   "codemirror_mode": {
    "name": "ipython",
    "version": 3
   },
   "file_extension": ".py",
   "mimetype": "text/x-python",
   "name": "python",
   "nbconvert_exporter": "python",
   "pygments_lexer": "ipython3",
   "version": "3.8.3"
  }
 },
 "nbformat": 4,
 "nbformat_minor": 2
}
